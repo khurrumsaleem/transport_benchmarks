{
 "cells": [
  {
   "cell_type": "code",
   "execution_count": null,
   "id": "80dd7d76",
   "metadata": {},
   "outputs": [],
   "source": [
    "from benchmarks.plots import plotting_script as plotter\n",
    "from benchmarks.load_bench_script import load_func\n",
    "from benchmarks import integrate_greens as greens\n",
    "import matplotlib.pyplot as plt\n",
    "import numpy as np\n",
    "import math\n",
    "import scipy.integrate as integrate"
   ]
  },
  {
   "cell_type": "code",
   "execution_count": null,
   "id": "dd55a957",
   "metadata": {},
   "outputs": [],
   "source": [
    "c = 29.998\n",
    "A = c/3"
   ]
  },
  {
   "cell_type": "code",
   "execution_count": null,
   "id": "cf32b5b3",
   "metadata": {},
   "outputs": [],
   "source": [
    "def bench(x, t):\n",
    "    t = t / c\n",
    "    xi = x / math.sqrt(A * t)\n",
    "    return (1/ math.sqrt(A * t)) * 0.5 * (1/math.sqrt(math.pi)) * np.exp(-xi**2/4)\n",
    "def bench2(x, t):\n",
    "    t = t / c\n",
    "    xi = x / math.sqrt(A * t)\n",
    "    return 0.5 * (1/math.sqrt(math.pi)) * np.exp(-xi**2/4)"
   ]
  },
  {
   "cell_type": "code",
   "execution_count": null,
   "id": "1e0f1095",
   "metadata": {},
   "outputs": [],
   "source": [
    "def rmse(l1, l2):\n",
    "    return np.sqrt(np.mean((l1-l2)**2))\n",
    "#     return np.mean(l1-l2)"
   ]
  },
  {
   "cell_type": "code",
   "execution_count": null,
   "id": "3a1080d7",
   "metadata": {},
   "outputs": [],
   "source": [
    "def results_maker(t):\n",
    "    tau = t/ c\n",
    "    dimensionalize = 1/math.sqrt(A * tau)\n",
    "    if math.exp(-t)/2/t <= 1e-14:\n",
    "        dx_mode = True\n",
    "    else:\n",
    "        dx_mode = False\n",
    "        \n",
    "    res = greens.plane_IC(t,2000)\n",
    "    if t < 500000:\n",
    "        xs = np.linspace(0, t + 1e-10, 100)\n",
    "    else:\n",
    "        xs = np.linspace(0, 90 + 1e-10, 100)\n",
    "    phi = load_func('plane_IC', t, xs)[0]\n",
    "    \n",
    "    phi_asmyp = xs*0\n",
    "    for ix in range(xs.size):\n",
    "        phi_asmyp[ix] = integrate.quad(collided_asymp, 0, math.pi, args = (xs[ix], t, 1.0))[0] + np.exp(-t)/2/t*np.heaviside(1-xs[ix]/t,0)\n",
    "    \n",
    "    \n",
    "    return rmse(phi/ dimensionalize, bench2(xs, t)), rmse(phi, bench(xs, t)), rmse(phi_asmyp, phi), rmse(phi_asmyp, bench(xs, t))\n",
    "\n",
    "    "
   ]
  },
  {
   "cell_type": "code",
   "execution_count": null,
   "id": "dde41654",
   "metadata": {},
   "outputs": [],
   "source": [
    "def cot(x):\n",
    "    return 1/ np.tan(x)\n",
    "def csc(x):\n",
    "    return 1 / np.sin(x)"
   ]
  },
  {
   "cell_type": "code",
   "execution_count": null,
   "id": "860cd0cc",
   "metadata": {},
   "outputs": [],
   "source": [
    "def collided_asymp(u, x, t, c):\n",
    "    return   (c*np.exp(t*(-1 + (c*u*cot(u/2.))/2.))*u**2*np.cos((c*x*(-2*cot(u/2.) + u*cot(u/2.)**2))/2.)*csc(u/2.)**2)/(8.*math.pi) * np.heaviside(1-x/t,0)"
   ]
  },
  {
   "cell_type": "code",
   "execution_count": null,
   "id": "fb481346",
   "metadata": {},
   "outputs": [],
   "source": [
    "res = greens.plane_IC(25,1000)"
   ]
  },
  {
   "cell_type": "code",
   "execution_count": null,
   "id": "572d1f90",
   "metadata": {},
   "outputs": [],
   "source": [
    "tlist = np.linspace(1, 8, 2)\n",
    "rmselist = []\n",
    "rmselist2 = []\n",
    "rmselist3 = []\n",
    "rmselist4 = []\n",
    "for t in tlist:\n",
    "    rmselist.append(results_maker(t)[0])\n",
    "    rmselist2.append(results_maker(t)[1])\n",
    "    rmselist3.append(results_maker(t)[2])\n",
    "    rmselist4.append(results_maker(t)[3])\n",
    "    \n"
   ]
  },
  {
   "cell_type": "code",
   "execution_count": null,
   "id": "547ea6c9",
   "metadata": {},
   "outputs": [],
   "source": [
    "plt.figure(1)\n",
    "plt.loglog(tlist, rmselist, '-o', mfc = 'none')\n",
    "plt.loglog(tlist, rmselist2, '-s', mfc = 'none')\n",
    "plt.loglog(tlist, 0.12*np.array(tlist)**(-math.sqrt(3)), '--', label = r'$-\\sqrt{3}$')\n",
    "plt.loglog(tlist, 0.12*np.array(tlist)**(-math.sqrt(2)/2), '--', label = r'$-\\sqrt{2}/2$')\n",
    "plt.loglog(tlist, 0.08*np.array(tlist)**(-1), '--', label = r'$-1$')\n",
    "plt.loglog(tlist, 0.1*np.array(tlist)**(-2**0.5), '--', label = r'$-\\sqrt{2}$')\n",
    "plt.legend()\n",
    "plt.show()"
   ]
  },
  {
   "cell_type": "code",
   "execution_count": null,
   "id": "7a046c7b",
   "metadata": {},
   "outputs": [],
   "source": [
    "plt.figure(2)\n",
    "plt.loglog(tlist, rmselist3, '-^', mfc = 'none')\n",
    "plt.loglog(tlist, rmselist4, '-x', mfc = 'none')\n",
    "plt.loglog(tlist, 0.17*np.array(tlist)**(-math.sqrt(2)/2), '--', label = r'$-\\sqrt{2}/2$')\n",
    "plt.legend()\n",
    "plt.show()"
   ]
  },
  {
   "cell_type": "code",
   "execution_count": null,
   "id": "b8733fd3",
   "metadata": {},
   "outputs": [],
   "source": []
  },
  {
   "cell_type": "code",
   "execution_count": null,
   "id": "610a878a",
   "metadata": {},
   "outputs": [],
   "source": [
    "t = 10\n",
    "tau = t/c\n",
    "dimensionalize = 1/math.sqrt(A * tau)\n",
    "xs = np.linspace(0, t, 10000)\n",
    "phi = load_func('plane_IC', t, xs)[0]\n",
    "# plt.plot(xs, phi/dimensionalize, '-o', mfc = 'none')\n",
    "plt.plot(xs, phi, '-o', mfc = 'none')\n",
    "# plt.plot(xs, bench2(xs,t), '--')\n",
    "plt.plot(xs, bench(xs,t), '--')"
   ]
  },
  {
   "cell_type": "code",
   "execution_count": null,
   "id": "f499f54e",
   "metadata": {},
   "outputs": [],
   "source": [
    "res = greens.plane_IC(2.5,2000)"
   ]
  },
  {
   "cell_type": "code",
   "execution_count": null,
   "id": "8329d462",
   "metadata": {},
   "outputs": [],
   "source": [
    "\n",
    "\n",
    "t = 1\n",
    "# res = greens.plane_IC(t,2000)\n",
    "xs = np.linspace(0, t + 1e-12, 1000)\n",
    "phi = load_func('plane_IC', t, xs)[0]\n",
    "# plt.plot(xs, phi/dimensionalize, '-o', mfc = 'none')\n",
    "plt.plot(xs, phi, '-',color = 'tab:blue', mfc = 'none', label = f't={t}')\n",
    "plt.plot(-xs, phi, '-', color = 'tab:blue',mfc = 'none')\n",
    "\n",
    "t = 2.5\n",
    "\n",
    "xs = np.linspace(0, t + 1e-12, 1000)\n",
    "phi = load_func('plane_IC', t, xs)[0]\n",
    "# plt.plot(xs, phi/dimensionalize, '-o', mfc = 'none')\n",
    "plt.plot(xs, phi, '-',color = 'tab:red', mfc = 'none', label = f't={t}')\n",
    "plt.plot(-xs, phi, '-',color = 'tab:red', mfc = 'none')\n",
    "\n",
    "t = 5\n",
    "# res = greens.plane_IC(t,2000)\n",
    "xs = np.linspace(0, t + 1e-12, 1000)\n",
    "phi = load_func('plane_IC', t, xs)[0]\n",
    "# plt.plot(xs, phi/dimensionalize, '-o', mfc = 'none')\n",
    "plt.plot(xs, phi, '-',color = 'tab:green', mfc = 'none', label = f't={t}')\n",
    "plt.plot(-xs, phi, '-',color = 'tab:green', mfc = 'none')\n",
    "\n",
    "\n",
    "plt.legend()\n",
    "plt.xlabel('x (cm)', fontsize = 16)\n",
    "plt.ylabel(r'$\\phi$', fontsize = 16)\n",
    "\n",
    "# plt.plot(xs, bench2(xs,t), '--')\n",
    "plt.savefig('transportdemo.pdf')\n",
    "\n"
   ]
  },
  {
   "cell_type": "code",
   "execution_count": null,
   "id": "522cb0d6",
   "metadata": {},
   "outputs": [],
   "source": [
    "\n",
    "t = 1\n",
    "# res = greens.plane_IC(t,2000)\n",
    "xs = np.linspace(0, t + 1e-12, 1000)\n",
    "phi = load_func('plane_IC', t, xs)[1]\n",
    "# plt.plot(xs, phi/dimensionalize, '-o', mfc = 'none')\n",
    "plt.plot(xs, phi, '-',color = 'tab:blue', mfc = 'none', label = f't={t}')\n",
    "plt.plot(-xs, phi, '-', color = 'tab:blue',mfc = 'none')\n",
    "\n",
    "t = 2.5\n",
    "\n",
    "xs = np.linspace(0, t + 1e-12, 1000)\n",
    "phi = load_func('plane_IC', t, xs)[1]\n",
    "# plt.plot(xs, phi/dimensionalize, '-o', mfc = 'none')\n",
    "plt.plot(xs, phi, '-',color = 'tab:red', mfc = 'none', label = f't={t}')\n",
    "plt.plot(-xs, phi, '-',color = 'tab:red', mfc = 'none')\n",
    "\n",
    "t = 5\n",
    "# res = greens.plane_IC(t,2000)\n",
    "xs = np.linspace(0, t + 1e-12, 1000)\n",
    "phi = load_func('plane_IC', t, xs)[1]\n",
    "# plt.plot(xs, phi/dimensionalize, '-o', mfc = 'none')\n",
    "plt.plot(xs, phi, '-',color = 'tab:green', mfc = 'none', label = f't={t}')\n",
    "plt.plot(-xs, phi, '-',color = 'tab:green', mfc = 'none')\n",
    "\n",
    "\n",
    "plt.legend()\n",
    "plt.xlabel('x (cm)', fontsize = 16)\n",
    "plt.ylabel(r'$\\phi$', fontsize = 16)\n",
    "\n",
    "# plt.plot(xs, bench2(xs,t), '--')\n",
    "plt.savefig('transportdemouncol.pdf')\n",
    "\n"
   ]
  },
  {
   "cell_type": "code",
   "execution_count": null,
   "id": "1547a8e5",
   "metadata": {},
   "outputs": [],
   "source": [
    "tt = 500\n",
    "\n",
    "xs = np.linspace(0, 100, 500)\n",
    "res = greens.plane_IC(tt,1000)\n",
    "t = 50\n",
    "phi_asymp = xs*0\n",
    "for ix in range(xs.size):\n",
    "        phi_asymp[ix] = integrate.quad(collided_asymp, 0, math.pi, args = (xs[ix], tt, 1.0))[0] + np.exp(-t)/2/t*np.heaviside(1-xs[ix]/t,0)"
   ]
  },
  {
   "cell_type": "code",
   "execution_count": null,
   "id": "c41ac09d",
   "metadata": {},
   "outputs": [],
   "source": [
    "plt.plot(xs, bench(xs, tt),'bo', mfc = 'none', label = 'diffusion', )\n",
    "plt.plot(xs, phi_asymp, label = 'asymptotic')\n",
    "phi = load_func('plane_IC', tt, xs)[0]\n",
    "plt.plot(xs, phi, '-k', label = 'full')\n",
    "plt.legend()\n",
    "plt.xlabel('z')\n",
    "plt.ylabel(r'$\\phi$')\n",
    "plt.title(r'$\\tau=$' + f'{tt}')\n",
    "plt.savefig('analytic_test_1.pdf')"
   ]
  },
  {
   "cell_type": "code",
   "execution_count": null,
   "id": "6f9c67d3",
   "metadata": {},
   "outputs": [],
   "source": [
    "def x0plot():\n",
    "    x0s = np.linspace(0.1, 10, 50)\n",
    "    t=10\n",
    "    dt = 0.1\n",
    "    for ix0, x0 in enumerate(x0s):\n",
    "        xs = np.linspace(0, x0 + t)\n",
    "        phi = load_func('square_IC', t, xs, x0)[0]\n",
    "        plt.plot(xs, phi, '-k')\n",
    "        plt.plot(-xs, phi, '-k')\n",
    "        plt.title(f'x0={x0}')\n",
    "        plt.ylabel(r'$\\phi$')\n",
    "        plt.xlabel('x (cm)')\n",
    "        plt.pause(dt)\n",
    "        plt.savefig(x0_animation/f\"square_IC_{ix0}.jpg\")\n",
    "        plt.clf()\n",
    "        "
   ]
  },
  {
   "cell_type": "code",
   "execution_count": null,
   "id": "9321572c",
   "metadata": {},
   "outputs": [],
   "source": [
    "x0plot()"
   ]
  },
  {
   "cell_type": "code",
   "execution_count": null,
   "id": "7539320c",
   "metadata": {},
   "outputs": [],
   "source": []
  },
  {
   "cell_type": "code",
   "execution_count": null,
   "id": "9289dfc8",
   "metadata": {},
   "outputs": [],
   "source": []
  }
 ],
 "metadata": {
  "kernelspec": {
   "display_name": "Python 3 (ipykernel)",
   "language": "python",
   "name": "python3"
  },
  "language_info": {
   "codemirror_mode": {
    "name": "ipython",
    "version": 3
   },
   "file_extension": ".py",
   "mimetype": "text/x-python",
   "name": "python",
   "nbconvert_exporter": "python",
   "pygments_lexer": "ipython3",
   "version": "3.8.17"
  }
 },
 "nbformat": 4,
 "nbformat_minor": 5
}
